{
 "cells": [
  {
   "cell_type": "code",
   "execution_count": 161,
   "metadata": {},
   "outputs": [
    {
     "data": {
      "text/plain": [
       "'nt'"
      ]
     },
     "execution_count": 161,
     "metadata": {},
     "output_type": "execute_result"
    }
   ],
   "source": [
    "import os\n",
    "import json\n",
    "import pandas as pd\n",
    "import numpy as np\n",
    "from matplotlib import pyplot as plt\n",
    "os.name"
   ]
  },
  {
   "cell_type": "code",
   "execution_count": 162,
   "metadata": {},
   "outputs": [],
   "source": [
    "def get_manta_files(folder=\"C:\\\\YandexDisk\\\\_QUT\\\\Project_1\\\\MAntas_imag\\\\0_manta_selected_annotated_some\",\n",
    "             pics_extension=('.jpg','.jpeg','.png')):\n",
    "    '''\n",
    "    getting collection of pictures with information regarding available lable file *.json\n",
    "    the labelling was performed using \"label me\" tool https://github.com/wkentaro/labelme\n",
    "    assuming that relevant label file has same name as image file and locatet in the same folder\n",
    "    @params:\n",
    "        folder:string\n",
    "        pics_extension: iterable\n",
    "        \n",
    "    Oputputs:\n",
    "        df : pandas.DataFrame\n",
    "    '''\n",
    "    \n",
    "    if os.name==\"nt\":\n",
    "        delim=\"\\\\\"\n",
    "    else:\n",
    "        delim=\"/\"\n",
    "    \n",
    "    df=pd.DataFrame(columns=['manta_name','file_name','image_path','body_landmark_path'])\n",
    "    for dirname, dirnames, filenames in os.walk(folder):\n",
    "        if len(filenames)>0:\n",
    "            for f in filenames:\n",
    "                if os.path.splitext(f)[1].lower() in pics_extension:\n",
    "                    #print(os.path.splitext(f)[0].lower()+\".json\")\n",
    "                    #print(set(filenames))\n",
    "                    if os.path.splitext(f)[0]+\".json\" in set(filenames):\n",
    "                        #print (\"yes\")\n",
    "                        json_file=dirname+delim+os.path.splitext(f)[0]+\".json\"\n",
    "                    else:\n",
    "                        json_file=None\n",
    "                    df.loc[len(df)]=[os.path.basename(dirname),os.path.splitext(f)[0],dirname+delim+f,json_file]\n",
    "    print('total:'+str(len(df)))\n",
    "    print('labelled:'+str(len(df[df.body_landmark_path.isnull()!=True])))\n",
    "    return df"
   ]
  },
  {
   "cell_type": "code",
   "execution_count": 163,
   "metadata": {},
   "outputs": [
    {
     "name": "stdout",
     "output_type": "stream",
     "text": [
      "os = nt\n",
      "total:1801\n",
      "labelled:295\n"
     ]
    },
    {
     "data": {
      "text/html": [
       "<div>\n",
       "<style scoped>\n",
       "    .dataframe tbody tr th:only-of-type {\n",
       "        vertical-align: middle;\n",
       "    }\n",
       "\n",
       "    .dataframe tbody tr th {\n",
       "        vertical-align: top;\n",
       "    }\n",
       "\n",
       "    .dataframe thead th {\n",
       "        text-align: right;\n",
       "    }\n",
       "</style>\n",
       "<table border=\"1\" class=\"dataframe\">\n",
       "  <thead>\n",
       "    <tr style=\"text-align: right;\">\n",
       "      <th></th>\n",
       "      <th>manta_name</th>\n",
       "      <th>file_name</th>\n",
       "      <th>image_path</th>\n",
       "      <th>body_landmark_path</th>\n",
       "    </tr>\n",
       "  </thead>\n",
       "  <tbody>\n",
       "    <tr>\n",
       "      <th>0</th>\n",
       "      <td>0002 Theola</td>\n",
       "      <td>2-F-20070711-LEI-MarkAtkinson-THEOLA-1</td>\n",
       "      <td>C:\\YandexDisk\\_QUT\\Project_1\\MAntas_imag\\0_man...</td>\n",
       "      <td>C:\\YandexDisk\\_QUT\\Project_1\\MAntas_imag\\0_man...</td>\n",
       "    </tr>\n",
       "    <tr>\n",
       "      <th>1</th>\n",
       "      <td>0002 Theola</td>\n",
       "      <td>2-F-20090320-NSI-MattPrunty-THEOLA</td>\n",
       "      <td>C:\\YandexDisk\\_QUT\\Project_1\\MAntas_imag\\0_man...</td>\n",
       "      <td>C:\\YandexDisk\\_QUT\\Project_1\\MAntas_imag\\0_man...</td>\n",
       "    </tr>\n",
       "    <tr>\n",
       "      <th>2</th>\n",
       "      <td>0002 Theola</td>\n",
       "      <td>2-F-20110623-0847-LEI-LydieCouturier-THEOLA-1</td>\n",
       "      <td>C:\\YandexDisk\\_QUT\\Project_1\\MAntas_imag\\0_man...</td>\n",
       "      <td>C:\\YandexDisk\\_QUT\\Project_1\\MAntas_imag\\0_man...</td>\n",
       "    </tr>\n",
       "  </tbody>\n",
       "</table>\n",
       "</div>"
      ],
      "text/plain": [
       "    manta_name                                      file_name  \\\n",
       "0  0002 Theola         2-F-20070711-LEI-MarkAtkinson-THEOLA-1   \n",
       "1  0002 Theola             2-F-20090320-NSI-MattPrunty-THEOLA   \n",
       "2  0002 Theola  2-F-20110623-0847-LEI-LydieCouturier-THEOLA-1   \n",
       "\n",
       "                                          image_path  \\\n",
       "0  C:\\YandexDisk\\_QUT\\Project_1\\MAntas_imag\\0_man...   \n",
       "1  C:\\YandexDisk\\_QUT\\Project_1\\MAntas_imag\\0_man...   \n",
       "2  C:\\YandexDisk\\_QUT\\Project_1\\MAntas_imag\\0_man...   \n",
       "\n",
       "                                  body_landmark_path  \n",
       "0  C:\\YandexDisk\\_QUT\\Project_1\\MAntas_imag\\0_man...  \n",
       "1  C:\\YandexDisk\\_QUT\\Project_1\\MAntas_imag\\0_man...  \n",
       "2  C:\\YandexDisk\\_QUT\\Project_1\\MAntas_imag\\0_man...  "
      ]
     },
     "execution_count": 163,
     "metadata": {},
     "output_type": "execute_result"
    }
   ],
   "source": [
    "if os.name==\"nt\":\n",
    "    folder=\"C:\\\\YandexDisk\\\\_QUT\\\\Project_1\\\\MAntas_imag\\\\0_manta_selected_annotated_some\"\n",
    "else:\n",
    "    folder=\"/tf/notebooks/data/0_manta_selected_annotated_some\"\n",
    "\n",
    "heatmap_order=(\"left-eye\",\"right-eye\",\"left-gill\",\"right-gill\",\"tail\")\n",
    "print (\"os = \"+os.name)\n",
    "df=get_manta_files(folder=folder)\n",
    "df.head(3)"
   ]
  },
  {
   "cell_type": "code",
   "execution_count": 164,
   "metadata": {},
   "outputs": [
    {
     "name": "stdout",
     "output_type": "stream",
     "text": [
      "labelled pictures\n"
     ]
    },
    {
     "data": {
      "text/plain": [
       "Int64Index([   0,    1,    2,    3,    4,    5,    6,    7,    8,    9,\n",
       "            ...\n",
       "            1680, 1681, 1682, 1683, 1684, 1685, 1686, 1687, 1688, 1689],\n",
       "           dtype='int64', length=295)"
      ]
     },
     "execution_count": 164,
     "metadata": {},
     "output_type": "execute_result"
    }
   ],
   "source": [
    "print(\"labelled pictures\")\n",
    "df[df.body_landmark_path.isna()==False].index"
   ]
  },
  {
   "cell_type": "code",
   "execution_count": 165,
   "metadata": {},
   "outputs": [],
   "source": [
    "def distance(points):\n",
    "    #returns eucledian distance for two n-dimentional points \n",
    "    a,b=points\n",
    "    from scipy.spatial import distance\n",
    "    return distance.euclidean(a, b)\n",
    "\n",
    "def extract_body_landmarks(json_filename):\n",
    "    '''extracts body-landmarks from json file\n",
    "       @params:\n",
    "           json_filename:string\n",
    "       output - Dictionary:\n",
    "           \"height-width\": tuple(height,width) of the source image\n",
    "           \"BLM\"  : List of tuples. Each tuple is a body-landmark:\n",
    "               (label,(x,y),r)\n",
    "    '''\n",
    "    if json_filename is None:\n",
    "        return None\n",
    "    \n",
    "    with open(json_filename,'r',encoding='utf-8') as j:\n",
    "              data=json.load(j)\n",
    "    shapes=data['shapes']\n",
    "    height_width=[data['imageHeight'],data['imageWidth']]\n",
    "    \n",
    "    json_info = {}\n",
    "    json_info[\"height_width\"] = height_width\n",
    "    BLM=[]\n",
    "    for t in shapes:\n",
    "        label=t['label']\n",
    "        point=np.array(t['points'][0][::-1])\n",
    "        r=round(distance(t['points']))\n",
    "        BLM.append((label,point,r))\n",
    "    json_info[\"BLM\"]=BLM\n",
    "    return json_info"
   ]
  },
  {
   "cell_type": "code",
   "execution_count": 168,
   "metadata": {},
   "outputs": [],
   "source": [
    "#New architecture\n",
    "def gen_heatmaps(json_info,heatmap_size):\n",
    "    '''\n",
    "    produces array of pairs {heatmap_label:heatmap}\n",
    "    @params: Dictionary:   (output from \"extract_body_landmarks\" )\n",
    "           \"height-width\": tuple(height,width) of the source image\n",
    "           \"BLM\"  : List of tuples. Each tuple is a body-landmark:\n",
    "               (label,(x,y),r)\n",
    "    outputs:\n",
    "        numpy (heatmap_size[0],heatmap_size[1],5)\n",
    "    '''\n",
    "    heatmap_order=(\"left-eye\",\"right-eye\",\"left-gill\",\"right-gill\",\"tail\")\n",
    "    if json_info is None:\n",
    "        return None\n",
    "    BLMs=json_info[\"BLM\"]\n",
    "    height_width=json_info[\"height_width\"]\n",
    "    heatmaps={}\n",
    "    for poi in BLMs:\n",
    "        poi_label=poi[0]\n",
    "        point=np.array(poi[1])\n",
    "        r=poi[2]\n",
    "\n",
    "        heatmap=np.zeros(heatmap_size)\n",
    "        scales=[]\n",
    "        for d1,d2 in zip(height_width,heatmap_size):\n",
    "            scales.append(d2/d1)\n",
    "        scales=np.array(scales)\n",
    "        newpoint=np.round(point*scales,0).astype(int)\n",
    "        new_r=round(r*scales[0]).astype(int)*2\n",
    "        if new_r==0: \n",
    "            new_r=2\n",
    "        for x in range(heatmap_size[0]):\n",
    "            for y in range(heatmap_size[1]):\n",
    "                d=distance([newpoint,[x,y]])\n",
    "                heatmap[x,y]=1/(2+(d/new_r)**2)\n",
    "\n",
    "        #heatmaps[\"label\"]=poi_label\n",
    "        heatmaps[poi_label]=heatmap\n",
    "    #convert to numpy\n",
    "    output_heatmaps=[]\n",
    "    for label in heatmap_order:\n",
    "        if label in heatmaps:\n",
    "            output_heatmaps.append(heatmaps[label])\n",
    "        else:\n",
    "            output_heatmaps.append(np.zeros(heatmap_size))\n",
    "    output_heatmaps=np.array(output_heatmaps)\n",
    "    #channels - last\n",
    "    output_heatmaps=np.moveaxis(output_heatmaps,0,-1)\n",
    "    return output_heatmaps"
   ]
  },
  {
   "cell_type": "code",
   "execution_count": 234,
   "metadata": {},
   "outputs": [],
   "source": [
    "def apply_heatmaps(image,heatmaps):\n",
    "    '''\n",
    "    shows image and it's heatmaps\n",
    "    @params:\n",
    "        image:PIL.Image\n",
    "        heatmaps: Manta Heatmaps list\n",
    "    '''\n",
    "    heatmap_order=(\"left-eye\",\"right-eye\",\"left-gill\",\"right-gill\",\"tail\")\n",
    "    #convert to channels-first\n",
    "    heatmaps=np.moveaxis(heatmaps,-1,0)\n",
    "    image_size=(heatmaps[0].shape[::-1])\n",
    "    #resize the image to size of heatmap\n",
    "    image = image.resize(image_size, Image.ANTIALIAS)\n",
    "    \n",
    "    img=np.array(image)\n",
    "    img= img/255\n",
    "\n",
    "    base_mask=np.zeros_like(heatmaps[0])\n",
    "    #summarise all heatmaps into one\n",
    "    \n",
    "    base_mask=heatmaps.sum(axis=0)\n",
    "    #we want RED heatmap, so we have to add zero channels for Green and blue\n",
    "    base_mask=base_mask.reshape(base_mask.shape[0],base_mask.shape[1],1)\n",
    "    green=np.zeros_like(base_mask)\n",
    "    blue=np.zeros_like(base_mask)\n",
    "    mask=np.append(base_mask,green,axis=2)\n",
    "    mask=np.append(mask,blue,axis=2)\n",
    "\n",
    "    newpic=(base_mask<0.01)*img + (base_mask>=0.01)*(img*(1-base_mask) + mask)\n",
    "    plt.imshow(newpic)\n",
    "    #add anotations\n",
    "    for i,heatmap in zip(range(len(heatmaps)),heatmaps):\n",
    "        label=heatmap_order[i]\n",
    "        #find center of heatmap\n",
    "        center=np.argmax(heatmap)\n",
    "        x=center//heatmap.shape[0]\n",
    "        y=center%heatmap.shape[1]      \n",
    "        plt.annotate(label,xy=(y+5,x))"
   ]
  },
  {
   "cell_type": "code",
   "execution_count": 171,
   "metadata": {},
   "outputs": [
    {
     "name": "stdout",
     "output_type": "stream",
     "text": [
      "C:\\YandexDisk\\_QUT\\Project_1\\MAntas_imag\\0_manta_selected_annotated_some\\0893 Valentine\\893-F-20160506-NSI-StewartBarry-VALENTINE-1.json\n",
      "{'height_width': [437, 603], 'BLM': [('left-eye', array([197, 245]), 2.0), ('right-eye', array([269, 307]), 4.0), ('left-gill', array([289, 195]), 0.0), ('right-gill', array([342, 256]), 0.0), ('tail', array([387, 112]), 2.0)]}\n"
     ]
    },
    {
     "data": {
      "image/png": "[encoded data removed]",
      "text/plain": [
       "<Figure size 432x288 with 1 Axes>"
      ]
     },
     "metadata": {
      "needs_background": "light"
     },
     "output_type": "display_data"
    }
   ],
   "source": [
    "pic_to_show=1685\n",
    "\n",
    "image_path=df.image_path[pic_to_show]\n",
    "jpath=df.body_landmark_path[pic_to_show]\n",
    "#jpath=\"C:\\\\YandexDisk\\\\_QUT\\\\Project_1\\\\MAntas_imag\\\\0_manta_selected_annotated_some\\\\0012 Laverna\\\\12-F-20130627-LEI-MichelleOoi-LAVERNA-2.json\"\n",
    "print(jpath)\n",
    "json_info = extract_body_landmarks(jpath)\n",
    "print(json_info)\n",
    "heatmaps=gen_heatmaps(json_info,(100,100))\n",
    "from PIL import Image\n",
    "image = Image.open(image_path)\n",
    "apply_heatmaps(image,heatmaps)\n",
    "#plt.imshow(image)"
   ]
  },
  {
   "cell_type": "code",
   "execution_count": 226,
   "metadata": {},
   "outputs": [],
   "source": [
    "def normalize(imag):\n",
    "        image=np.array(imag)\n",
    "        image = image[..., ::-1]\n",
    "        image = image.astype('float')\n",
    "\n",
    "        image[..., 0] -= 103.939\n",
    "        image[..., 1] -= 116.779\n",
    "        image[..., 2] -= 123.68\n",
    "        return image\n",
    "    \n",
    "def denormalize(imag):\n",
    "        image=imag\n",
    "        image[..., 0] += 103.939\n",
    "        image[..., 1] += 116.779\n",
    "        image[..., 2] += 123.68\n",
    "        image = image[..., ::-1]\n",
    "        image = image.astype('uint8')\n",
    "        return image \n",
    "    \n",
    "def image_to_numpy(image,image_size):\n",
    "    image = image.resize(image_size, Image.ANTIALIAS)\n",
    "    image=normalize(image)\n",
    "    return image"
   ]
  },
  {
   "cell_type": "code",
   "execution_count": 231,
   "metadata": {},
   "outputs": [
    {
     "name": "stderr",
     "output_type": "stream",
     "text": [
      "Clipping input data to the valid range for imshow with RGB data ([0..1] for floats or [0..255] for integers).\n"
     ]
    },
    {
     "data": {
      "text/plain": [
       "<matplotlib.image.AxesImage at 0x19e0c5c7128>"
      ]
     },
     "execution_count": 231,
     "metadata": {},
     "output_type": "execute_result"
    },
    {
     "data": {
      "image/png": "[encoded data removed]",
      "text/plain": [
       "<Figure size 432x288 with 1 Axes>"
      ]
     },
     "metadata": {
      "needs_background": "light"
     },
     "output_type": "display_data"
    }
   ],
   "source": [
    "npim=image_to_numpy(image,(100,100))\n",
    "plt.imshow(npim)"
   ]
  },
  {
   "cell_type": "code",
   "execution_count": 233,
   "metadata": {},
   "outputs": [
    {
     "data": {
      "text/plain": [
       "<matplotlib.image.AxesImage at 0x19e0c631588>"
      ]
     },
     "execution_count": 233,
     "metadata": {},
     "output_type": "execute_result"
    },
    {
     "data": {
      "image/png": "[encoded data removed]",
      "text/plain": [
       "<Figure size 432x288 with 1 Axes>"
      ]
     },
     "metadata": {
      "needs_background": "light"
     },
     "output_type": "display_data"
    }
   ],
   "source": [
    "denim=denormalize(npim)\n",
    "plt.imshow(denim)"
   ]
  }
 ],
 "metadata": {
  "kernelspec": {
   "display_name": "Python 3",
   "language": "python",
   "name": "python3"
  },
  "language_info": {
   "codemirror_mode": {
    "name": "ipython",
    "version": 3
   },
   "file_extension": ".py",
   "mimetype": "text/x-python",
   "name": "python",
   "nbconvert_exporter": "python",
   "pygments_lexer": "ipython3",
   "version": "3.5.6"
  }
 },
 "nbformat": 4,
 "nbformat_minor": 2
}
